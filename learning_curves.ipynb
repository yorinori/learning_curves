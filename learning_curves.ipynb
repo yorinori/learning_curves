{
 "cells": [
  {
   "cell_type": "markdown",
   "source": [
    "# Learning Curves"
   ],
   "metadata": {}
  },
  {
   "cell_type": "markdown",
   "source": [
    "Neste notebook vamos entender melhor o comportamento de altgoritmos de machine learning quando a quantidade de dados e a complexidade dos dados mudam.\n",
    "\n",
    "Como um primeiro passo, será gerado um conjunto de dados para uma determinada complexidade."
   ],
   "metadata": {}
  }
 ],
 "metadata": {
  "orig_nbformat": 4,
  "language_info": {
   "name": "python"
  }
 },
 "nbformat": 4,
 "nbformat_minor": 2
}